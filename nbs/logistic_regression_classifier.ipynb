{
 "cells": [
  {
   "cell_type": "code",
   "execution_count": 1,
   "metadata": {},
   "outputs": [],
   "source": [
    "import numpy as np\n",
    "import pandas as pd\n",
    "import seaborn as sns\n",
    "import matplotlib.pyplot as plt\n",
    "%matplotlib inline\n",
    "from sklearn.model_selection import StratifiedKFold\n",
    "import xgboost as xgb\n",
    "import os, shutil\n",
    "import pickle"
   ]
  },
  {
   "cell_type": "code",
   "execution_count": 2,
   "metadata": {},
   "outputs": [],
   "source": [
    "df_dict = []"
   ]
  },
  {
   "cell_type": "code",
   "execution_count": 3,
   "metadata": {},
   "outputs": [],
   "source": [
    "def text_cleaning(txt):\n",
    "    txt = txt.replace('\\n',' ')\n",
    "    txt = txt.replace(',','')\n",
    "    return txt"
   ]
  },
  {
   "cell_type": "code",
   "execution_count": 4,
   "metadata": {},
   "outputs": [],
   "source": [
    "folder = '../data/deduped_output/spam/'\n",
    "for the_file in os.listdir(folder):\n",
    "    fp = open(folder+ the_file)\n",
    "    txt = fp.read()\n",
    "    txt = text_cleaning(txt)\n",
    "    df_dict.append({'txt':txt,'label':'spam'})"
   ]
  },
  {
   "cell_type": "code",
   "execution_count": 5,
   "metadata": {},
   "outputs": [],
   "source": [
    "folder = '../data/deduped_output/posts/'\n",
    "for the_file in os.listdir(folder):\n",
    "    fp = open(folder+ the_file)\n",
    "    txt = fp.read()\n",
    "    txt = text_cleaning(txt)\n",
    "    df_dict.append({'txt':txt,'label':'posts'})"
   ]
  },
  {
   "cell_type": "code",
   "execution_count": 6,
   "metadata": {},
   "outputs": [],
   "source": [
    "train = pd.DataFrame(df_dict)"
   ]
  },
  {
   "cell_type": "code",
   "execution_count": 7,
   "metadata": {},
   "outputs": [],
   "source": [
    "train = train.sample(frac=1).reset_index(drop=True)"
   ]
  },
  {
   "cell_type": "code",
   "execution_count": 8,
   "metadata": {},
   "outputs": [
    {
     "data": {
      "text/html": [
       "<div>\n",
       "<style scoped>\n",
       "    .dataframe tbody tr th:only-of-type {\n",
       "        vertical-align: middle;\n",
       "    }\n",
       "\n",
       "    .dataframe tbody tr th {\n",
       "        vertical-align: top;\n",
       "    }\n",
       "\n",
       "    .dataframe thead th {\n",
       "        text-align: right;\n",
       "    }\n",
       "</style>\n",
       "<table border=\"1\" class=\"dataframe\">\n",
       "  <thead>\n",
       "    <tr style=\"text-align: right;\">\n",
       "      <th></th>\n",
       "      <th>txt</th>\n",
       "      <th>label</th>\n",
       "    </tr>\n",
       "  </thead>\n",
       "  <tbody>\n",
       "    <tr>\n",
       "      <td>0</td>\n",
       "      <td>CUSTOMIZED DELIMITER</td>\n",
       "      <td>posts</td>\n",
       "    </tr>\n",
       "    <tr>\n",
       "      <td>1</td>\n",
       "      <td>Fcnantn 0-BT-10 CUSTOMIZED DELIMITER दुरा फ्रं...</td>\n",
       "      <td>posts</td>\n",
       "    </tr>\n",
       "    <tr>\n",
       "      <td>2</td>\n",
       "      <td>CUSTOMIZED DELIMITER</td>\n",
       "      <td>posts</td>\n",
       "    </tr>\n",
       "    <tr>\n",
       "      <td>3</td>\n",
       "      <td>CUSTOMIZED DELIMITER ट्टड्डित्सकी सुबह अच्छी ...</td>\n",
       "      <td>posts</td>\n",
       "    </tr>\n",
       "    <tr>\n",
       "      <td>4</td>\n",
       "      <td>CUSTOMIZED DELIMITER</td>\n",
       "      <td>posts</td>\n",
       "    </tr>\n",
       "  </tbody>\n",
       "</table>\n",
       "</div>"
      ],
      "text/plain": [
       "                                                 txt  label\n",
       "0                              CUSTOMIZED DELIMITER   posts\n",
       "1  Fcnantn 0-BT-10 CUSTOMIZED DELIMITER दुरा फ्रं...  posts\n",
       "2                              CUSTOMIZED DELIMITER   posts\n",
       "3   CUSTOMIZED DELIMITER ट्टड्डित्सकी सुबह अच्छी ...  posts\n",
       "4                              CUSTOMIZED DELIMITER   posts"
      ]
     },
     "execution_count": 8,
     "metadata": {},
     "output_type": "execute_result"
    }
   ],
   "source": [
    "train.head()"
   ]
  },
  {
   "cell_type": "code",
   "execution_count": 9,
   "metadata": {
    "scrolled": true
   },
   "outputs": [
    {
     "name": "stdout",
     "output_type": "stream",
     "text": [
      "<class 'pandas.core.frame.DataFrame'>\n",
      "RangeIndex: 1099 entries, 0 to 1098\n",
      "Data columns (total 2 columns):\n",
      "txt      1099 non-null object\n",
      "label    1099 non-null object\n",
      "dtypes: object(2)\n",
      "memory usage: 17.3+ KB\n"
     ]
    }
   ],
   "source": [
    "train.info()"
   ]
  },
  {
   "cell_type": "code",
   "execution_count": 10,
   "metadata": {},
   "outputs": [
    {
     "data": {
      "text/plain": [
       "txt      0\n",
       "label    0\n",
       "dtype: int64"
      ]
     },
     "execution_count": 10,
     "metadata": {},
     "output_type": "execute_result"
    }
   ],
   "source": [
    "train.isnull().sum()"
   ]
  },
  {
   "cell_type": "code",
   "execution_count": 11,
   "metadata": {},
   "outputs": [
    {
     "data": {
      "text/plain": [
       "posts    982\n",
       "spam     117\n",
       "Name: label, dtype: int64"
      ]
     },
     "execution_count": 11,
     "metadata": {},
     "output_type": "execute_result"
    }
   ],
   "source": [
    "train.label.value_counts()"
   ]
  },
  {
   "cell_type": "markdown",
   "metadata": {},
   "source": [
    "### txt"
   ]
  },
  {
   "cell_type": "code",
   "execution_count": 12,
   "metadata": {},
   "outputs": [
    {
     "data": {
      "text/plain": [
       "' CUSTOMIZED DELIMITER '"
      ]
     },
     "execution_count": 12,
     "metadata": {},
     "output_type": "execute_result"
    }
   ],
   "source": [
    "train['txt'][2]"
   ]
  },
  {
   "cell_type": "markdown",
   "metadata": {},
   "source": [
    "### Feature Engineering with txt"
   ]
  },
  {
   "cell_type": "code",
   "execution_count": 13,
   "metadata": {},
   "outputs": [],
   "source": [
    "import string"
   ]
  },
  {
   "cell_type": "code",
   "execution_count": 14,
   "metadata": {},
   "outputs": [],
   "source": [
    "train['ccs_char_count'] = train['txt'].apply(len)\n",
    "train['ccs_word_count'] = train['txt'].apply(lambda x: len(x.split()))\n",
    "train['ccs_word_density'] = train['ccs_char_count'] / (train['ccs_word_count']+1)\n",
    "train['ccs_punctuation_count'] = train['txt'].apply(lambda x: len(\"\".join(_ for _ in x if _ in string.punctuation))) \n",
    "train['ccs_title_word_count'] = train['txt'].apply(lambda x: len([wrd for wrd in x.split() if wrd.istitle()]))\n",
    "train['ccs_upper_case_word_count'] = train['txt'].apply(lambda x: len([wrd for wrd in x.split() if wrd.isupper()]))"
   ]
  },
  {
   "cell_type": "code",
   "execution_count": 15,
   "metadata": {},
   "outputs": [
    {
     "data": {
      "text/html": [
       "<div>\n",
       "<style scoped>\n",
       "    .dataframe tbody tr th:only-of-type {\n",
       "        vertical-align: middle;\n",
       "    }\n",
       "\n",
       "    .dataframe tbody tr th {\n",
       "        vertical-align: top;\n",
       "    }\n",
       "\n",
       "    .dataframe thead th {\n",
       "        text-align: right;\n",
       "    }\n",
       "</style>\n",
       "<table border=\"1\" class=\"dataframe\">\n",
       "  <thead>\n",
       "    <tr style=\"text-align: right;\">\n",
       "      <th></th>\n",
       "      <th>txt</th>\n",
       "      <th>label</th>\n",
       "      <th>ccs_char_count</th>\n",
       "      <th>ccs_word_count</th>\n",
       "      <th>ccs_word_density</th>\n",
       "      <th>ccs_punctuation_count</th>\n",
       "      <th>ccs_title_word_count</th>\n",
       "      <th>ccs_upper_case_word_count</th>\n",
       "    </tr>\n",
       "  </thead>\n",
       "  <tbody>\n",
       "    <tr>\n",
       "      <td>0</td>\n",
       "      <td>CUSTOMIZED DELIMITER</td>\n",
       "      <td>posts</td>\n",
       "      <td>22</td>\n",
       "      <td>2</td>\n",
       "      <td>7.333333</td>\n",
       "      <td>0</td>\n",
       "      <td>0</td>\n",
       "      <td>2</td>\n",
       "    </tr>\n",
       "    <tr>\n",
       "      <td>1</td>\n",
       "      <td>Fcnantn 0-BT-10 CUSTOMIZED DELIMITER दुरा फ्रं...</td>\n",
       "      <td>posts</td>\n",
       "      <td>55</td>\n",
       "      <td>9</td>\n",
       "      <td>5.500000</td>\n",
       "      <td>3</td>\n",
       "      <td>1</td>\n",
       "      <td>3</td>\n",
       "    </tr>\n",
       "    <tr>\n",
       "      <td>2</td>\n",
       "      <td>CUSTOMIZED DELIMITER</td>\n",
       "      <td>posts</td>\n",
       "      <td>22</td>\n",
       "      <td>2</td>\n",
       "      <td>7.333333</td>\n",
       "      <td>0</td>\n",
       "      <td>0</td>\n",
       "      <td>2</td>\n",
       "    </tr>\n",
       "    <tr>\n",
       "      <td>3</td>\n",
       "      <td>CUSTOMIZED DELIMITER ट्टड्डित्सकी सुबह अच्छी ...</td>\n",
       "      <td>posts</td>\n",
       "      <td>128</td>\n",
       "      <td>20</td>\n",
       "      <td>6.095238</td>\n",
       "      <td>1</td>\n",
       "      <td>0</td>\n",
       "      <td>2</td>\n",
       "    </tr>\n",
       "    <tr>\n",
       "      <td>4</td>\n",
       "      <td>CUSTOMIZED DELIMITER</td>\n",
       "      <td>posts</td>\n",
       "      <td>22</td>\n",
       "      <td>2</td>\n",
       "      <td>7.333333</td>\n",
       "      <td>0</td>\n",
       "      <td>0</td>\n",
       "      <td>2</td>\n",
       "    </tr>\n",
       "  </tbody>\n",
       "</table>\n",
       "</div>"
      ],
      "text/plain": [
       "                                                 txt  label  ccs_char_count  \\\n",
       "0                              CUSTOMIZED DELIMITER   posts              22   \n",
       "1  Fcnantn 0-BT-10 CUSTOMIZED DELIMITER दुरा फ्रं...  posts              55   \n",
       "2                              CUSTOMIZED DELIMITER   posts              22   \n",
       "3   CUSTOMIZED DELIMITER ट्टड्डित्सकी सुबह अच्छी ...  posts             128   \n",
       "4                              CUSTOMIZED DELIMITER   posts              22   \n",
       "\n",
       "   ccs_word_count  ccs_word_density  ccs_punctuation_count  \\\n",
       "0               2          7.333333                      0   \n",
       "1               9          5.500000                      3   \n",
       "2               2          7.333333                      0   \n",
       "3              20          6.095238                      1   \n",
       "4               2          7.333333                      0   \n",
       "\n",
       "   ccs_title_word_count  ccs_upper_case_word_count  \n",
       "0                     0                          2  \n",
       "1                     1                          3  \n",
       "2                     0                          2  \n",
       "3                     0                          2  \n",
       "4                     0                          2  "
      ]
     },
     "execution_count": 15,
     "metadata": {},
     "output_type": "execute_result"
    }
   ],
   "source": [
    "train.head()"
   ]
  },
  {
   "cell_type": "code",
   "execution_count": 16,
   "metadata": {},
   "outputs": [
    {
     "data": {
      "text/html": [
       "<div>\n",
       "<style scoped>\n",
       "    .dataframe tbody tr th:only-of-type {\n",
       "        vertical-align: middle;\n",
       "    }\n",
       "\n",
       "    .dataframe tbody tr th {\n",
       "        vertical-align: top;\n",
       "    }\n",
       "\n",
       "    .dataframe thead th {\n",
       "        text-align: right;\n",
       "    }\n",
       "</style>\n",
       "<table border=\"1\" class=\"dataframe\">\n",
       "  <thead>\n",
       "    <tr style=\"text-align: right;\">\n",
       "      <th></th>\n",
       "      <th>txt</th>\n",
       "      <th>label</th>\n",
       "      <th>ccs_char_count</th>\n",
       "      <th>ccs_word_count</th>\n",
       "      <th>ccs_word_density</th>\n",
       "      <th>ccs_punctuation_count</th>\n",
       "      <th>ccs_title_word_count</th>\n",
       "      <th>ccs_upper_case_word_count</th>\n",
       "    </tr>\n",
       "  </thead>\n",
       "  <tbody>\n",
       "    <tr>\n",
       "      <td>0</td>\n",
       "      <td>CUSTOMIZED DELIMITER</td>\n",
       "      <td>posts</td>\n",
       "      <td>22</td>\n",
       "      <td>2</td>\n",
       "      <td>7.333333</td>\n",
       "      <td>0</td>\n",
       "      <td>0</td>\n",
       "      <td>2</td>\n",
       "    </tr>\n",
       "    <tr>\n",
       "      <td>1</td>\n",
       "      <td>Fcnantn 0-BT-10 CUSTOMIZED DELIMITER दुरा फ्रं...</td>\n",
       "      <td>posts</td>\n",
       "      <td>55</td>\n",
       "      <td>9</td>\n",
       "      <td>5.500000</td>\n",
       "      <td>3</td>\n",
       "      <td>1</td>\n",
       "      <td>3</td>\n",
       "    </tr>\n",
       "    <tr>\n",
       "      <td>2</td>\n",
       "      <td>CUSTOMIZED DELIMITER</td>\n",
       "      <td>posts</td>\n",
       "      <td>22</td>\n",
       "      <td>2</td>\n",
       "      <td>7.333333</td>\n",
       "      <td>0</td>\n",
       "      <td>0</td>\n",
       "      <td>2</td>\n",
       "    </tr>\n",
       "    <tr>\n",
       "      <td>3</td>\n",
       "      <td>CUSTOMIZED DELIMITER ट्टड्डित्सकी सुबह अच्छी ...</td>\n",
       "      <td>posts</td>\n",
       "      <td>128</td>\n",
       "      <td>20</td>\n",
       "      <td>6.095238</td>\n",
       "      <td>1</td>\n",
       "      <td>0</td>\n",
       "      <td>2</td>\n",
       "    </tr>\n",
       "    <tr>\n",
       "      <td>4</td>\n",
       "      <td>CUSTOMIZED DELIMITER</td>\n",
       "      <td>posts</td>\n",
       "      <td>22</td>\n",
       "      <td>2</td>\n",
       "      <td>7.333333</td>\n",
       "      <td>0</td>\n",
       "      <td>0</td>\n",
       "      <td>2</td>\n",
       "    </tr>\n",
       "  </tbody>\n",
       "</table>\n",
       "</div>"
      ],
      "text/plain": [
       "                                                 txt  label  ccs_char_count  \\\n",
       "0                              CUSTOMIZED DELIMITER   posts              22   \n",
       "1  Fcnantn 0-BT-10 CUSTOMIZED DELIMITER दुरा फ्रं...  posts              55   \n",
       "2                              CUSTOMIZED DELIMITER   posts              22   \n",
       "3   CUSTOMIZED DELIMITER ट्टड्डित्सकी सुबह अच्छी ...  posts             128   \n",
       "4                              CUSTOMIZED DELIMITER   posts              22   \n",
       "\n",
       "   ccs_word_count  ccs_word_density  ccs_punctuation_count  \\\n",
       "0               2          7.333333                      0   \n",
       "1               9          5.500000                      3   \n",
       "2               2          7.333333                      0   \n",
       "3              20          6.095238                      1   \n",
       "4               2          7.333333                      0   \n",
       "\n",
       "   ccs_title_word_count  ccs_upper_case_word_count  \n",
       "0                     0                          2  \n",
       "1                     1                          3  \n",
       "2                     0                          2  \n",
       "3                     0                          2  \n",
       "4                     0                          2  "
      ]
     },
     "execution_count": 16,
     "metadata": {},
     "output_type": "execute_result"
    }
   ],
   "source": [
    "train.head()"
   ]
  },
  {
   "cell_type": "markdown",
   "metadata": {},
   "source": [
    "### ccs_char_count"
   ]
  },
  {
   "cell_type": "code",
   "execution_count": 17,
   "metadata": {},
   "outputs": [
    {
     "data": {
      "text/plain": [
       "count    1099.000000\n",
       "mean      150.088262\n",
       "std       322.531362\n",
       "min        22.000000\n",
       "25%        22.000000\n",
       "50%        23.000000\n",
       "75%       152.500000\n",
       "max      4766.000000\n",
       "Name: ccs_char_count, dtype: float64"
      ]
     },
     "execution_count": 17,
     "metadata": {},
     "output_type": "execute_result"
    }
   ],
   "source": [
    "train['ccs_char_count'].describe()"
   ]
  },
  {
   "cell_type": "code",
   "execution_count": 18,
   "metadata": {},
   "outputs": [
    {
     "data": {
      "text/plain": [
       "<matplotlib.axes._subplots.AxesSubplot at 0x7f3717184400>"
      ]
     },
     "execution_count": 18,
     "metadata": {},
     "output_type": "execute_result"
    },
    {
     "data": {
      "image/png": "[encoded data removed]",
      "text/plain": [
       "<Figure size 432x288 with 1 Axes>"
      ]
     },
     "metadata": {
      "needs_background": "light"
     },
     "output_type": "display_data"
    }
   ],
   "source": [
    "sns.distplot(train['ccs_char_count'])"
   ]
  },
  {
   "cell_type": "markdown",
   "metadata": {},
   "source": [
    "### ccs_word_count"
   ]
  },
  {
   "cell_type": "code",
   "execution_count": 19,
   "metadata": {
    "scrolled": true
   },
   "outputs": [
    {
     "data": {
      "text/plain": [
       "count    1099.000000\n",
       "mean       24.073703\n",
       "std        58.533000\n",
       "min         2.000000\n",
       "25%         2.000000\n",
       "50%         3.000000\n",
       "75%        25.000000\n",
       "max       940.000000\n",
       "Name: ccs_word_count, dtype: float64"
      ]
     },
     "execution_count": 19,
     "metadata": {},
     "output_type": "execute_result"
    }
   ],
   "source": [
    "train['ccs_word_count'].describe()"
   ]
  },
  {
   "cell_type": "code",
   "execution_count": 20,
   "metadata": {},
   "outputs": [
    {
     "data": {
      "text/plain": [
       "<matplotlib.axes._subplots.AxesSubplot at 0x7f3716d73f60>"
      ]
     },
     "execution_count": 20,
     "metadata": {},
     "output_type": "execute_result"
    },
    {
     "data": {
      "image/png": "[encoded data removed]",
      "text/plain": [
       "<Figure size 432x288 with 1 Axes>"
      ]
     },
     "metadata": {
      "needs_background": "light"
     },
     "output_type": "display_data"
    }
   ],
   "source": [
    "sns.distplot(train['ccs_word_count'])"
   ]
  },
  {
   "cell_type": "markdown",
   "metadata": {},
   "source": [
    "### ccs_word_density"
   ]
  },
  {
   "cell_type": "code",
   "execution_count": 21,
   "metadata": {},
   "outputs": [
    {
     "data": {
      "text/plain": [
       "count    1099.000000\n",
       "mean        6.693169\n",
       "std         0.992594\n",
       "min         3.764706\n",
       "25%         5.869500\n",
       "50%         7.333333\n",
       "75%         7.333333\n",
       "max        11.468750\n",
       "Name: ccs_word_density, dtype: float64"
      ]
     },
     "execution_count": 21,
     "metadata": {},
     "output_type": "execute_result"
    }
   ],
   "source": [
    "train['ccs_word_density'].describe()"
   ]
  },
  {
   "cell_type": "code",
   "execution_count": 22,
   "metadata": {},
   "outputs": [
    {
     "data": {
      "text/plain": [
       "<matplotlib.axes._subplots.AxesSubplot at 0x7f3716ce6518>"
      ]
     },
     "execution_count": 22,
     "metadata": {},
     "output_type": "execute_result"
    },
    {
     "data": {
      "image/png": "[encoded data removed]",
      "text/plain": [
       "<Figure size 432x288 with 1 Axes>"
      ]
     },
     "metadata": {
      "needs_background": "light"
     },
     "output_type": "display_data"
    }
   ],
   "source": [
    "sns.distplot(train['ccs_word_density'])"
   ]
  },
  {
   "cell_type": "markdown",
   "metadata": {},
   "source": [
    "### ccs_punctuation_count"
   ]
  },
  {
   "cell_type": "code",
   "execution_count": 23,
   "metadata": {},
   "outputs": [
    {
     "data": {
      "text/plain": [
       "count    1099.000000\n",
       "mean        5.304823\n",
       "std        24.272528\n",
       "min         0.000000\n",
       "25%         0.000000\n",
       "50%         0.000000\n",
       "75%         4.000000\n",
       "max       676.000000\n",
       "Name: ccs_punctuation_count, dtype: float64"
      ]
     },
     "execution_count": 23,
     "metadata": {},
     "output_type": "execute_result"
    }
   ],
   "source": [
    "train['ccs_punctuation_count'].describe()"
   ]
  },
  {
   "cell_type": "code",
   "execution_count": 24,
   "metadata": {},
   "outputs": [
    {
     "data": {
      "text/plain": [
       "<matplotlib.axes._subplots.AxesSubplot at 0x7f3716c0d748>"
      ]
     },
     "execution_count": 24,
     "metadata": {},
     "output_type": "execute_result"
    },
    {
     "data": {
      "image/png": "[encoded data removed]",
      "text/plain": [
       "<Figure size 432x288 with 1 Axes>"
      ]
     },
     "metadata": {
      "needs_background": "light"
     },
     "output_type": "display_data"
    }
   ],
   "source": [
    "sns.distplot(train['ccs_punctuation_count'])"
   ]
  },
  {
   "cell_type": "markdown",
   "metadata": {},
   "source": [
    "### ccs_title_word_count"
   ]
  },
  {
   "cell_type": "code",
   "execution_count": 25,
   "metadata": {},
   "outputs": [
    {
     "data": {
      "text/plain": [
       "count    1099.000000\n",
       "mean        2.188353\n",
       "std         5.576265\n",
       "min         0.000000\n",
       "25%         0.000000\n",
       "50%         0.000000\n",
       "75%         2.000000\n",
       "max        73.000000\n",
       "Name: ccs_title_word_count, dtype: float64"
      ]
     },
     "execution_count": 25,
     "metadata": {},
     "output_type": "execute_result"
    }
   ],
   "source": [
    "train['ccs_title_word_count'].describe()"
   ]
  },
  {
   "cell_type": "code",
   "execution_count": 26,
   "metadata": {},
   "outputs": [
    {
     "data": {
      "text/plain": [
       "<matplotlib.axes._subplots.AxesSubplot at 0x7f3716b14c50>"
      ]
     },
     "execution_count": 26,
     "metadata": {},
     "output_type": "execute_result"
    },
    {
     "data": {
      "image/png": "[encoded data removed]",
      "text/plain": [
       "<Figure size 432x288 with 1 Axes>"
      ]
     },
     "metadata": {
      "needs_background": "light"
     },
     "output_type": "display_data"
    }
   ],
   "source": [
    "sns.distplot(train['ccs_title_word_count'])"
   ]
  },
  {
   "cell_type": "markdown",
   "metadata": {},
   "source": [
    "### ccs_upper_case_word_count"
   ]
  },
  {
   "cell_type": "code",
   "execution_count": 27,
   "metadata": {},
   "outputs": [
    {
     "data": {
      "text/plain": [
       "count    1099.000000\n",
       "mean        3.098271\n",
       "std         2.828328\n",
       "min         2.000000\n",
       "25%         2.000000\n",
       "50%         2.000000\n",
       "75%         3.000000\n",
       "max        34.000000\n",
       "Name: ccs_upper_case_word_count, dtype: float64"
      ]
     },
     "execution_count": 27,
     "metadata": {},
     "output_type": "execute_result"
    }
   ],
   "source": [
    "train['ccs_upper_case_word_count'].describe()"
   ]
  },
  {
   "cell_type": "code",
   "execution_count": 28,
   "metadata": {},
   "outputs": [
    {
     "data": {
      "text/plain": [
       "<matplotlib.axes._subplots.AxesSubplot at 0x7f37169fa4e0>"
      ]
     },
     "execution_count": 28,
     "metadata": {},
     "output_type": "execute_result"
    },
    {
     "data": {
      "image/png": "[encoded data removed]",
      "text/plain": [
       "<Figure size 432x288 with 1 Axes>"
      ]
     },
     "metadata": {
      "needs_background": "light"
     },
     "output_type": "display_data"
    }
   ],
   "source": [
    "sns.distplot(train['ccs_upper_case_word_count'])"
   ]
  },
  {
   "cell_type": "code",
   "execution_count": 29,
   "metadata": {},
   "outputs": [],
   "source": [
    "cont_cols = []"
   ]
  },
  {
   "cell_type": "code",
   "execution_count": 30,
   "metadata": {},
   "outputs": [],
   "source": [
    "for col in train.columns:\n",
    "    if train[col].dtype == 'int64' or train[col].dtype == 'float64':\n",
    "        cont_cols.append(col)"
   ]
  },
  {
   "cell_type": "code",
   "execution_count": 31,
   "metadata": {},
   "outputs": [
    {
     "data": {
      "text/plain": [
       "['ccs_char_count',\n",
       " 'ccs_word_count',\n",
       " 'ccs_word_density',\n",
       " 'ccs_punctuation_count',\n",
       " 'ccs_title_word_count',\n",
       " 'ccs_upper_case_word_count']"
      ]
     },
     "execution_count": 31,
     "metadata": {},
     "output_type": "execute_result"
    }
   ],
   "source": [
    "cont_cols"
   ]
  },
  {
   "cell_type": "markdown",
   "metadata": {},
   "source": [
    "# Tf-Idf vectors as features"
   ]
  },
  {
   "cell_type": "code",
   "execution_count": 32,
   "metadata": {},
   "outputs": [],
   "source": [
    "from sklearn.feature_extraction.text import TfidfVectorizer\n",
    "from sklearn.model_selection import train_test_split\n",
    "from sklearn import preprocessing\n",
    "from sklearn.model_selection import train_test_split"
   ]
  },
  {
   "cell_type": "code",
   "execution_count": 33,
   "metadata": {},
   "outputs": [],
   "source": [
    "X_train,X_test,y_train,y_test = train_test_split(train.drop('label',axis=1),train['label'],test_size=0.33,stratify=train['label'],random_state=42)"
   ]
  },
  {
   "cell_type": "code",
   "execution_count": 34,
   "metadata": {},
   "outputs": [
    {
     "data": {
      "text/plain": [
       "736"
      ]
     },
     "execution_count": 34,
     "metadata": {},
     "output_type": "execute_result"
    }
   ],
   "source": [
    "len(X_train)"
   ]
  },
  {
   "cell_type": "code",
   "execution_count": 35,
   "metadata": {},
   "outputs": [
    {
     "data": {
      "text/plain": [
       "363"
      ]
     },
     "execution_count": 35,
     "metadata": {},
     "output_type": "execute_result"
    }
   ],
   "source": [
    "len(X_test)"
   ]
  },
  {
   "cell_type": "code",
   "execution_count": 36,
   "metadata": {},
   "outputs": [],
   "source": [
    "from collections import Counter"
   ]
  },
  {
   "cell_type": "code",
   "execution_count": 37,
   "metadata": {},
   "outputs": [
    {
     "data": {
      "text/plain": [
       "Counter({'posts': 658, 'spam': 78})"
      ]
     },
     "execution_count": 37,
     "metadata": {},
     "output_type": "execute_result"
    }
   ],
   "source": [
    "Counter(y_train)"
   ]
  },
  {
   "cell_type": "code",
   "execution_count": 38,
   "metadata": {},
   "outputs": [
    {
     "data": {
      "text/plain": [
       "Counter({'posts': 324, 'spam': 39})"
      ]
     },
     "execution_count": 38,
     "metadata": {},
     "output_type": "execute_result"
    }
   ],
   "source": [
    "Counter(y_test)"
   ]
  },
  {
   "cell_type": "code",
   "execution_count": 39,
   "metadata": {
    "scrolled": true
   },
   "outputs": [],
   "source": [
    "encoder = preprocessing.LabelEncoder()\n",
    "y_train = encoder.fit_transform(y_train)\n",
    "with open('label_encode.pkl', 'wb') as fid:\n",
    "    pickle.dump(encoder, fid) "
   ]
  },
  {
   "cell_type": "code",
   "execution_count": 40,
   "metadata": {},
   "outputs": [],
   "source": [
    "for col in cont_cols:\n",
    "    scaler = preprocessing.RobustScaler()\n",
    "    X_train[col] = scaler.fit_transform(np.array(X_train[col]).reshape(-1, 1))\n",
    "#     valid_x[col] = scaler.transform(np.array(valid_x[col]).reshape(-1, 1))\n",
    "    X_test[col] = scaler.transform(np.array(X_test[col]).reshape(-1, 1))\n",
    "    with open(col + '.pkl', 'wb') as fid:\n",
    "        pickle.dump(scaler, fid) "
   ]
  },
  {
   "cell_type": "code",
   "execution_count": 41,
   "metadata": {},
   "outputs": [
    {
     "data": {
      "text/html": [
       "<div>\n",
       "<style scoped>\n",
       "    .dataframe tbody tr th:only-of-type {\n",
       "        vertical-align: middle;\n",
       "    }\n",
       "\n",
       "    .dataframe tbody tr th {\n",
       "        vertical-align: top;\n",
       "    }\n",
       "\n",
       "    .dataframe thead th {\n",
       "        text-align: right;\n",
       "    }\n",
       "</style>\n",
       "<table border=\"1\" class=\"dataframe\">\n",
       "  <thead>\n",
       "    <tr style=\"text-align: right;\">\n",
       "      <th></th>\n",
       "      <th>txt</th>\n",
       "      <th>ccs_char_count</th>\n",
       "      <th>ccs_word_count</th>\n",
       "      <th>ccs_word_density</th>\n",
       "      <th>ccs_punctuation_count</th>\n",
       "      <th>ccs_title_word_count</th>\n",
       "      <th>ccs_upper_case_word_count</th>\n",
       "    </tr>\n",
       "  </thead>\n",
       "  <tbody>\n",
       "    <tr>\n",
       "      <td>390</td>\n",
       "      <td>vite 9 ene fore wae free zak TRH wt) Htc aoa s...</td>\n",
       "      <td>6.207031</td>\n",
       "      <td>6.695652</td>\n",
       "      <td>-1.463547</td>\n",
       "      <td>2.25</td>\n",
       "      <td>4.0</td>\n",
       "      <td>6.0</td>\n",
       "    </tr>\n",
       "    <tr>\n",
       "      <td>53</td>\n",
       "      <td>Ral Cees era aed aei...’ RAC aqATG= GER CUSTOM...</td>\n",
       "      <td>1.292969</td>\n",
       "      <td>1.217391</td>\n",
       "      <td>-0.933305</td>\n",
       "      <td>5.25</td>\n",
       "      <td>1.0</td>\n",
       "      <td>2.0</td>\n",
       "    </tr>\n",
       "    <tr>\n",
       "      <td>564</td>\n",
       "      <td>CUSTOMIZED DELIMITER</td>\n",
       "      <td>-0.074219</td>\n",
       "      <td>-0.086957</td>\n",
       "      <td>0.000000</td>\n",
       "      <td>0.00</td>\n",
       "      <td>0.0</td>\n",
       "      <td>0.0</td>\n",
       "    </tr>\n",
       "    <tr>\n",
       "      <td>647</td>\n",
       "      <td>CUSTOMIZED DELIMITER</td>\n",
       "      <td>-0.074219</td>\n",
       "      <td>-0.086957</td>\n",
       "      <td>0.000000</td>\n",
       "      <td>0.00</td>\n",
       "      <td>0.0</td>\n",
       "      <td>0.0</td>\n",
       "    </tr>\n",
       "    <tr>\n",
       "      <td>332</td>\n",
       "      <td>CUSTOMIZED DELIMITER</td>\n",
       "      <td>-0.074219</td>\n",
       "      <td>-0.086957</td>\n",
       "      <td>0.000000</td>\n",
       "      <td>0.00</td>\n",
       "      <td>0.0</td>\n",
       "      <td>0.0</td>\n",
       "    </tr>\n",
       "  </tbody>\n",
       "</table>\n",
       "</div>"
      ],
      "text/plain": [
       "                                                   txt  ccs_char_count  \\\n",
       "390  vite 9 ene fore wae free zak TRH wt) Htc aoa s...        6.207031   \n",
       "53   Ral Cees era aed aei...’ RAC aqATG= GER CUSTOM...        1.292969   \n",
       "564                              CUSTOMIZED DELIMITER        -0.074219   \n",
       "647                              CUSTOMIZED DELIMITER        -0.074219   \n",
       "332                              CUSTOMIZED DELIMITER        -0.074219   \n",
       "\n",
       "     ccs_word_count  ccs_word_density  ccs_punctuation_count  \\\n",
       "390        6.695652         -1.463547                   2.25   \n",
       "53         1.217391         -0.933305                   5.25   \n",
       "564       -0.086957          0.000000                   0.00   \n",
       "647       -0.086957          0.000000                   0.00   \n",
       "332       -0.086957          0.000000                   0.00   \n",
       "\n",
       "     ccs_title_word_count  ccs_upper_case_word_count  \n",
       "390                   4.0                        6.0  \n",
       "53                    1.0                        2.0  \n",
       "564                   0.0                        0.0  \n",
       "647                   0.0                        0.0  \n",
       "332                   0.0                        0.0  "
      ]
     },
     "execution_count": 41,
     "metadata": {},
     "output_type": "execute_result"
    }
   ],
   "source": [
    "X_train.head()"
   ]
  },
  {
   "cell_type": "code",
   "execution_count": 42,
   "metadata": {},
   "outputs": [
    {
     "data": {
      "text/plain": [
       "0    658\n",
       "1     78\n",
       "Name: 0, dtype: int64"
      ]
     },
     "execution_count": 42,
     "metadata": {},
     "output_type": "execute_result"
    }
   ],
   "source": [
    "pd.DataFrame(y_train)[0].value_counts()"
   ]
  },
  {
   "cell_type": "code",
   "execution_count": 43,
   "metadata": {},
   "outputs": [],
   "source": [
    "train_text = X_train['txt']\n",
    "test_text = X_test['txt']\n",
    "all_text = pd.concat([train_text, test_text])"
   ]
  },
  {
   "cell_type": "code",
   "execution_count": 44,
   "metadata": {},
   "outputs": [],
   "source": [
    "# word level tf-idf for Consumer-complaint-summary\n",
    "tfidf_vect = TfidfVectorizer(analyzer='word',sublinear_tf=True,strip_accents='unicode',ngram_range=(1, 2),lowercase=True, stop_words='english', token_pattern=r'\\w{1,}')\n",
    "tfidf_vect.fit(all_text)\n",
    "xtrain_tfidf =  tfidf_vect.transform(X_train['txt'])\n",
    "# xvalid_tfidf =  tfidf_vect.transform(valid_x['Consumer-complaint-summary'])\n",
    "xtest_tfidf =  tfidf_vect.transform(X_test['txt'])\n",
    "with open('tfidf.pkl', 'wb') as fid:\n",
    "    pickle.dump(tfidf_vect, fid) \n",
    "# char vectorizer\n",
    "# char_vectorizer = TfidfVectorizer(\n",
    "#     sublinear_tf=True,\n",
    "#     strip_accents='unicode',\n",
    "#     analyzer='char',\n",
    "#     stop_words='english',\n",
    "#     ngram_range=(2, 6),\n",
    "#     max_features=50000)\n",
    "# char_vectorizer.fit(all_text)\n",
    "# train_char_features = char_vectorizer.transform(train_x['Consumer-complaint-summary'])\n",
    "# valid_char_features = char_vectorizer.transform(valid_x['Consumer-complaint-summary'])\n",
    "# test_char_features = char_vectorizer.transform(test['Consumer-complaint-summary'])\n"
   ]
  },
  {
   "cell_type": "code",
   "execution_count": 45,
   "metadata": {},
   "outputs": [],
   "source": [
    "from sklearn.ensemble import RandomForestClassifier"
   ]
  },
  {
   "cell_type": "code",
   "execution_count": 46,
   "metadata": {},
   "outputs": [],
   "source": [
    "from sklearn.metrics import f1_score"
   ]
  },
  {
   "cell_type": "code",
   "execution_count": 47,
   "metadata": {},
   "outputs": [],
   "source": [
    "def train_model(classifier, feature_vector_train, label, is_neural_net=False):\n",
    "    # fit the training dataset on the classifier\n",
    "    classifier.fit(feature_vector_train, label)\n",
    "    # predict the labels on train dataset\n",
    "    predictions_train = classifier.predict(feature_vector_train)\n",
    "    # predict the labels on validation dataset\n",
    "#     predictions = classifier.predict(feature_vector_valid)\n",
    "    if is_neural_net:\n",
    "        predictions = predictions.argmax(axis=-1)\n",
    "    \n",
    "    return f1_score(predictions_train, label,average='weighted'),classifier"
   ]
  },
  {
   "cell_type": "markdown",
   "metadata": {},
   "source": [
    "### LR on Word Level TF IDF Vectors + Existing Features"
   ]
  },
  {
   "cell_type": "code",
   "execution_count": 49,
   "metadata": {},
   "outputs": [],
   "source": [
    "X_train = X_train.drop('txt',axis=1)\n",
    "test_txt = X_test['txt']\n",
    "X_test = X_test.drop('txt',axis=1)"
   ]
  },
  {
   "cell_type": "code",
   "execution_count": 50,
   "metadata": {},
   "outputs": [],
   "source": [
    "from scipy.sparse import hstack, csr_matrix"
   ]
  },
  {
   "cell_type": "code",
   "execution_count": 51,
   "metadata": {},
   "outputs": [],
   "source": [
    "train_features = hstack([xtrain_tfidf,csr_matrix(X_train.loc[X_train.index,])], 'csr')"
   ]
  },
  {
   "cell_type": "code",
   "execution_count": 59,
   "metadata": {},
   "outputs": [
    {
     "data": {
      "text/plain": [
       "Index(['ccs_char_count', 'ccs_word_count', 'ccs_word_density',\n",
       "       'ccs_punctuation_count', 'ccs_title_word_count',\n",
       "       'ccs_upper_case_word_count'],\n",
       "      dtype='object')"
      ]
     },
     "execution_count": 59,
     "metadata": {},
     "output_type": "execute_result"
    }
   ],
   "source": [
    "X_test.columns"
   ]
  },
  {
   "cell_type": "code",
   "execution_count": 60,
   "metadata": {},
   "outputs": [],
   "source": [
    "# test_features = hstack([xtest_tfidf,test_char_features,xtest_tfidf_cr,csr_matrix(test.loc[test.index,])], 'csr')\n",
    "test_features = hstack([xtest_tfidf,csr_matrix(X_test.loc[X_test.index,])], 'csr')"
   ]
  },
  {
   "cell_type": "code",
   "execution_count": 62,
   "metadata": {},
   "outputs": [],
   "source": [
    "from xgboost import XGBClassifier\n",
    "from sklearn.linear_model import LogisticRegression"
   ]
  },
  {
   "cell_type": "code",
   "execution_count": 65,
   "metadata": {},
   "outputs": [],
   "source": [
    "c_list = [1,10]"
   ]
  },
  {
   "cell_type": "code",
   "execution_count": 163,
   "metadata": {},
   "outputs": [
    {
     "name": "stdout",
     "output_type": "stream",
     "text": [
      "Logistic, WordLevel TF-IDF:  0.9690588103631583\n"
     ]
    }
   ],
   "source": [
    "f1_train,classifier = train_model(LogisticRegression(penalty='l2',C=10,random_state=0,class_weight='balanced'), train_features, y_train)\n",
    "print(\"Logistic, WordLevel TF-IDF: \", f1_train)"
   ]
  },
  {
   "cell_type": "code",
   "execution_count": 164,
   "metadata": {},
   "outputs": [],
   "source": [
    "with open('clf.pkl', 'wb') as fid:\n",
    "    pickle.dump(classifier, fid) "
   ]
  },
  {
   "cell_type": "code",
   "execution_count": 68,
   "metadata": {},
   "outputs": [],
   "source": [
    "predictions_test = classifier.predict(test_features)"
   ]
  },
  {
   "cell_type": "code",
   "execution_count": 69,
   "metadata": {},
   "outputs": [],
   "source": [
    "pred_test = pd.DataFrame(encoder.inverse_transform(predictions_test))"
   ]
  },
  {
   "cell_type": "code",
   "execution_count": 70,
   "metadata": {},
   "outputs": [],
   "source": [
    "pred_test.columns = ['label']"
   ]
  },
  {
   "cell_type": "code",
   "execution_count": 71,
   "metadata": {},
   "outputs": [
    {
     "data": {
      "text/plain": [
       "posts    334\n",
       "spam      29\n",
       "Name: label, dtype: int64"
      ]
     },
     "execution_count": 71,
     "metadata": {},
     "output_type": "execute_result"
    }
   ],
   "source": [
    "pred_test['label'].value_counts()"
   ]
  },
  {
   "cell_type": "code",
   "execution_count": 72,
   "metadata": {},
   "outputs": [],
   "source": [
    "pred_test['txt'] = test_txt.values"
   ]
  },
  {
   "cell_type": "code",
   "execution_count": 73,
   "metadata": {
    "scrolled": false
   },
   "outputs": [
    {
     "data": {
      "text/html": [
       "<div>\n",
       "<style scoped>\n",
       "    .dataframe tbody tr th:only-of-type {\n",
       "        vertical-align: middle;\n",
       "    }\n",
       "\n",
       "    .dataframe tbody tr th {\n",
       "        vertical-align: top;\n",
       "    }\n",
       "\n",
       "    .dataframe thead th {\n",
       "        text-align: right;\n",
       "    }\n",
       "</style>\n",
       "<table border=\"1\" class=\"dataframe\">\n",
       "  <thead>\n",
       "    <tr style=\"text-align: right;\">\n",
       "      <th></th>\n",
       "      <th>label</th>\n",
       "      <th>txt</th>\n",
       "    </tr>\n",
       "  </thead>\n",
       "  <tbody>\n",
       "    <tr>\n",
       "      <td>3</td>\n",
       "      <td>spam</td>\n",
       "      <td>No. Records Queried lote This application CUST...</td>\n",
       "    </tr>\n",
       "    <tr>\n",
       "      <td>7</td>\n",
       "      <td>spam</td>\n",
       "      <td>Upto 715000 Off tae Upto 1.4% Rewards CUSTOMIZ...</td>\n",
       "    </tr>\n",
       "    <tr>\n",
       "      <td>12</td>\n",
       "      <td>spam</td>\n",
       "      <td>Zindagi Zabbrdast Hai Ise Zabbrdasti Jiye. Zab...</td>\n",
       "    </tr>\n",
       "    <tr>\n",
       "      <td>31</td>\n",
       "      <td>spam</td>\n",
       "      <td>CUSTOMIZED DELIMITER शांष्णष्णन्माष्टक्तीक्ती...</td>\n",
       "    </tr>\n",
       "    <tr>\n",
       "      <td>32</td>\n",
       "      <td>spam</td>\n",
       "      <td>Unlimited Free Spin Heh HATS E2000 1 Spin =20 ...</td>\n",
       "    </tr>\n",
       "    <tr>\n",
       "      <td>45</td>\n",
       "      <td>spam</td>\n",
       "      <td>Cashback Received 3800 02 Aug 2019 03:09 PM| C...</td>\n",
       "    </tr>\n",
       "    <tr>\n",
       "      <td>52</td>\n",
       "      <td>spam</td>\n",
       "      <td>Refer Earn Get 75 Bonus Cash for every friend ...</td>\n",
       "    </tr>\n",
       "    <tr>\n",
       "      <td>61</td>\n",
       "      <td>spam</td>\n",
       "      <td>635.70 Send Money bank Add money wallet All Pa...</td>\n",
       "    </tr>\n",
       "    <tr>\n",
       "      <td>77</td>\n",
       "      <td>spam</td>\n",
       "      <td>Invite win Mylowte Mone Exe Abhishek Vikra 0 C...</td>\n",
       "    </tr>\n",
       "    <tr>\n",
       "      <td>88</td>\n",
       "      <td>spam</td>\n",
       "      <td>Paytm Wallet 92554.15 INSTALL chee 50007 Payii...</td>\n",
       "    </tr>\n",
       "    <tr>\n",
       "      <td>101</td>\n",
       "      <td>spam</td>\n",
       "      <td>CUSTOMIZED DELIMITER शुभमगंलवारदृदृल्लाहैटा</td>\n",
       "    </tr>\n",
       "    <tr>\n",
       "      <td>104</td>\n",
       "      <td>spam</td>\n",
       "      <td>Tela ait Sita Jal siete lel ait Weta CUSTOMIZE...</td>\n",
       "    </tr>\n",
       "    <tr>\n",
       "      <td>132</td>\n",
       "      <td>spam</td>\n",
       "      <td>MIU Invite friend Win Cash 251647 people won t...</td>\n",
       "    </tr>\n",
       "    <tr>\n",
       "      <td>144</td>\n",
       "      <td>spam</td>\n",
       "      <td>@prashantkumarpaswan143 ShareChat #paswan king...</td>\n",
       "    </tr>\n",
       "    <tr>\n",
       "      <td>145</td>\n",
       "      <td>spam</td>\n",
       "      <td>Eecoo Rien MoneyS1 App EPoo CUSTOMIZED DELIMIT...</td>\n",
       "    </tr>\n",
       "    <tr>\n",
       "      <td>150</td>\n",
       "      <td>spam</td>\n",
       "      <td>8 tore dae Abe ach aicte Rais ore eat sare sit...</td>\n",
       "    </tr>\n",
       "    <tr>\n",
       "      <td>164</td>\n",
       "      <td>spam</td>\n",
       "      <td>aga gach English ara wid eit wart Rissole uent...</td>\n",
       "    </tr>\n",
       "    <tr>\n",
       "      <td>170</td>\n",
       "      <td>spam</td>\n",
       "      <td>Cashback Received 205.32 18 Aug 2019 10:51 AM|...</td>\n",
       "    </tr>\n",
       "    <tr>\n",
       "      <td>187</td>\n",
       "      <td>spam</td>\n",
       "      <td>bra 4G. Share Paid Successfully Mall91 =1.0 Or...</td>\n",
       "    </tr>\n",
       "    <tr>\n",
       "      <td>202</td>\n",
       "      <td>spam</td>\n",
       "      <td>Cash Balance 252.56 Winning Amount 50.56 Payti...</td>\n",
       "    </tr>\n",
       "    <tr>\n",
       "      <td>215</td>\n",
       "      <td>spam</td>\n",
       "      <td>CUSTOMIZED DELIMITER ५ (णे) '(णोंदैब्दरेर्वरे...</td>\n",
       "    </tr>\n",
       "    <tr>\n",
       "      <td>217</td>\n",
       "      <td>spam</td>\n",
       "      <td>7:32PM SURLY pn) ech Payment Recharge 99558417...</td>\n",
       "    </tr>\n",
       "    <tr>\n",
       "      <td>238</td>\n",
       "      <td>spam</td>\n",
       "      <td>Photo Alokrealpicks@ —?_S CUSTOMIZED DELIMITER...</td>\n",
       "    </tr>\n",
       "    <tr>\n",
       "      <td>245</td>\n",
       "      <td>spam</td>\n",
       "      <td>LAKESHWAR SINGH LOM MAoo1 30-5 Jann Tere Liye ...</td>\n",
       "    </tr>\n",
       "    <tr>\n",
       "      <td>262</td>\n",
       "      <td>spam</td>\n",
       "      <td>Invite friend Win Cash fae Go’! You won Click ...</td>\n",
       "    </tr>\n",
       "    <tr>\n",
       "      <td>264</td>\n",
       "      <td>spam</td>\n",
       "      <td>Pehle Perea ath Nahi Hoti Thi. Baat Kahaan Hot...</td>\n",
       "    </tr>\n",
       "    <tr>\n",
       "      <td>272</td>\n",
       "      <td>spam</td>\n",
       "      <td>7:32PM BBP ype Ler Payment Recharge 9955841791...</td>\n",
       "    </tr>\n",
       "    <tr>\n",
       "      <td>323</td>\n",
       "      <td>spam</td>\n",
       "      <td>Payment Recharge 9955841791 Recharge Amount %1...</td>\n",
       "    </tr>\n",
       "    <tr>\n",
       "      <td>340</td>\n",
       "      <td>spam</td>\n",
       "      <td>Teacher:- Why you are laughing? Me:- Nothing m...</td>\n",
       "    </tr>\n",
       "  </tbody>\n",
       "</table>\n",
       "</div>"
      ],
      "text/plain": [
       "    label                                                txt\n",
       "3    spam  No. Records Queried lote This application CUST...\n",
       "7    spam  Upto 715000 Off tae Upto 1.4% Rewards CUSTOMIZ...\n",
       "12   spam  Zindagi Zabbrdast Hai Ise Zabbrdasti Jiye. Zab...\n",
       "31   spam   CUSTOMIZED DELIMITER शांष्णष्णन्माष्टक्तीक्ती...\n",
       "32   spam  Unlimited Free Spin Heh HATS E2000 1 Spin =20 ...\n",
       "45   spam  Cashback Received 3800 02 Aug 2019 03:09 PM| C...\n",
       "52   spam  Refer Earn Get 75 Bonus Cash for every friend ...\n",
       "61   spam  635.70 Send Money bank Add money wallet All Pa...\n",
       "77   spam  Invite win Mylowte Mone Exe Abhishek Vikra 0 C...\n",
       "88   spam  Paytm Wallet 92554.15 INSTALL chee 50007 Payii...\n",
       "101  spam        CUSTOMIZED DELIMITER शुभमगंलवारदृदृल्लाहैटा\n",
       "104  spam  Tela ait Sita Jal siete lel ait Weta CUSTOMIZE...\n",
       "132  spam  MIU Invite friend Win Cash 251647 people won t...\n",
       "144  spam  @prashantkumarpaswan143 ShareChat #paswan king...\n",
       "145  spam  Eecoo Rien MoneyS1 App EPoo CUSTOMIZED DELIMIT...\n",
       "150  spam  8 tore dae Abe ach aicte Rais ore eat sare sit...\n",
       "164  spam  aga gach English ara wid eit wart Rissole uent...\n",
       "170  spam  Cashback Received 205.32 18 Aug 2019 10:51 AM|...\n",
       "187  spam  bra 4G. Share Paid Successfully Mall91 =1.0 Or...\n",
       "202  spam  Cash Balance 252.56 Winning Amount 50.56 Payti...\n",
       "215  spam   CUSTOMIZED DELIMITER ५ (णे) '(णोंदैब्दरेर्वरे...\n",
       "217  spam  7:32PM SURLY pn) ech Payment Recharge 99558417...\n",
       "238  spam  Photo Alokrealpicks@ —?_S CUSTOMIZED DELIMITER...\n",
       "245  spam  LAKESHWAR SINGH LOM MAoo1 30-5 Jann Tere Liye ...\n",
       "262  spam  Invite friend Win Cash fae Go’! You won Click ...\n",
       "264  spam  Pehle Perea ath Nahi Hoti Thi. Baat Kahaan Hot...\n",
       "272  spam  7:32PM BBP ype Ler Payment Recharge 9955841791...\n",
       "323  spam  Payment Recharge 9955841791 Recharge Amount %1...\n",
       "340  spam  Teacher:- Why you are laughing? Me:- Nothing m..."
      ]
     },
     "execution_count": 73,
     "metadata": {},
     "output_type": "execute_result"
    }
   ],
   "source": [
    "pred_test[pred_test['label'] == 'spam']"
   ]
  },
  {
   "cell_type": "code",
   "execution_count": 74,
   "metadata": {},
   "outputs": [],
   "source": [
    "# pred_test[pred_test['label'] == 'spam'].to_csv('../data/logreg_output_spam.csv',index=None)"
   ]
  },
  {
   "cell_type": "code",
   "execution_count": null,
   "metadata": {},
   "outputs": [],
   "source": []
  },
  {
   "cell_type": "code",
   "execution_count": 152,
   "metadata": {},
   "outputs": [],
   "source": [
    "def predict_class(txt):\n",
    "    txt = text_cleaning(txt)\n",
    "    ccs_char_count = len(txt)\n",
    "    ccs_word_count = len(txt.split())\n",
    "    ccs_word_density = ccs_char_count / (ccs_word_count+1)\n",
    "    ccs_punctuation_count = len(\"\".join(_ for _ in txt if _ in string.punctuation)) \n",
    "    ccs_title_word_count = len([wrd for wrd in txt.split() if wrd.istitle()])\n",
    "    ccs_upper_case_word_count = len([wrd for wrd in txt.split() if wrd.isupper()])\n",
    "    cont_dict = {'ccs_char_count':ccs_char_count,'ccs_word_count':ccs_word_count,\\\n",
    "                'ccs_word_density':ccs_word_density,'ccs_punctuation_count':ccs_punctuation_count,\\\n",
    "                'ccs_title_word_count':ccs_title_word_count,'ccs_title_word_count':ccs_title_word_count,\\\n",
    "                'ccs_upper_case_word_count':ccs_upper_case_word_count}\n",
    "    for col in cont_cols:\n",
    "        with open(col+'.pkl', 'rb') as fid:\n",
    "            scaler = pickle.load(fid)\n",
    "            cont_dict[col] = scaler.transform(np.array(cont_dict[col]).reshape(-1, 1))\n",
    "    x = [cont_dict['ccs_char_count'], cont_dict['ccs_word_count'], cont_dict['ccs_word_density'],\n",
    "       cont_dict['ccs_punctuation_count'], cont_dict['ccs_title_word_count'],\n",
    "       cont_dict['ccs_upper_case_word_count']]\n",
    "    with open('tfidf.pkl', 'rb') as fid:\n",
    "        tfidf_vect = pickle.load(fid)\n",
    "    \n",
    "    x_tfidf = tfidf_vect.transform(np.array([txt]))\n",
    "#     print(x_tfidf.shape)\n",
    "    x = [p[0][0] for p in x]\n",
    "#     print(x)\n",
    "    x_df = pd.DataFrame([x],columns = ['ccs_char_count',\n",
    "                                 'ccs_word_count',\n",
    "                                 'ccs_word_density',\n",
    "                                 'ccs_punctuation_count',\n",
    "                                 'ccs_title_word_count',\n",
    "                                 'ccs_upper_case_word_count'])\n",
    "#     print(x_df)\n",
    "    final_x = hstack([x_tfidf,csr_matrix(x_df.loc[x_df.index,])], 'csr')\n",
    "    with open('label_encode.pkl', 'rb') as fid:\n",
    "        encoder = pickle.load(fid)\n",
    "    print(encoder.inverse_transform(classifier.predict(final_x)))"
   ]
  },
  {
   "cell_type": "code",
   "execution_count": 156,
   "metadata": {},
   "outputs": [
    {
     "name": "stdout",
     "output_type": "stream",
     "text": [
      "['spam']\n"
     ]
    }
   ],
   "source": [
    "predict_class('paytm 1000 cashback')"
   ]
  }
 ],
 "metadata": {
  "kernelspec": {
   "display_name": "ml",
   "language": "python",
   "name": "ml"
  },
  "language_info": {
   "codemirror_mode": {
    "name": "ipython",
    "version": 3
   },
   "file_extension": ".py",
   "mimetype": "text/x-python",
   "name": "python",
   "nbconvert_exporter": "python",
   "pygments_lexer": "ipython3",
   "version": "3.6.9"
  }
 },
 "nbformat": 4,
 "nbformat_minor": 2
}
